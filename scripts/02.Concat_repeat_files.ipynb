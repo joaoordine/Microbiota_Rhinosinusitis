{
 "cells": [
  {
   "cell_type": "markdown",
   "id": "05039ea4-8991-4569-a110-a598dfa83725",
   "metadata": {},
   "source": [
    "# 2. Concatenating repeated raw files"
   ]
  },
  {
   "cell_type": "code",
   "execution_count": 1,
   "id": "f09daeb3-29a6-4e7e-8c6f-1a4e11473d7d",
   "metadata": {},
   "outputs": [
    {
     "data": {
      "text/html": [
       "'/home/strawberry/Documents/Collaborations/sinusite_edwin/data'"
      ],
      "text/latex": [
       "'/home/strawberry/Documents/Collaborations/sinusite\\_edwin/data'"
      ],
      "text/markdown": [
       "'/home/strawberry/Documents/Collaborations/sinusite_edwin/data'"
      ],
      "text/plain": [
       "[1] \"/home/strawberry/Documents/Collaborations/sinusite_edwin/data\""
      ]
     },
     "metadata": {},
     "output_type": "display_data"
    }
   ],
   "source": [
    "setwd('/home/strawberry/Documents/Collaborations/sinusite_edwin/data')\n",
    "getwd()"
   ]
  },
  {
   "cell_type": "code",
   "execution_count": 2,
   "id": "9baaa3c2-ae8f-48bc-8915-3cca06db7bbd",
   "metadata": {},
   "outputs": [
    {
     "data": {
      "text/html": [
       "'~/Documents/Collaborations/sinusite_edwin/data/raw_data'"
      ],
      "text/latex": [
       "'\\textasciitilde{}/Documents/Collaborations/sinusite\\_edwin/data/raw\\_data'"
      ],
      "text/markdown": [
       "'~/Documents/Collaborations/sinusite_edwin/data/raw_data'"
      ],
      "text/plain": [
       "[1] \"~/Documents/Collaborations/sinusite_edwin/data/raw_data\""
      ]
     },
     "metadata": {},
     "output_type": "display_data"
    },
    {
     "data": {
      "text/html": [
       "'~/Documents/Collaborations/sinusite_edwin/data/raw_data/repetidos'"
      ],
      "text/latex": [
       "'\\textasciitilde{}/Documents/Collaborations/sinusite\\_edwin/data/raw\\_data/repetidos'"
      ],
      "text/markdown": [
       "'~/Documents/Collaborations/sinusite_edwin/data/raw_data/repetidos'"
      ],
      "text/plain": [
       "[1] \"~/Documents/Collaborations/sinusite_edwin/data/raw_data/repetidos\""
      ]
     },
     "metadata": {},
     "output_type": "display_data"
    },
    {
     "data": {
      "text/html": [
       "'~/Documents/Collaborations/sinusite_edwin/data/raw_data/repetidos2'"
      ],
      "text/latex": [
       "'\\textasciitilde{}/Documents/Collaborations/sinusite\\_edwin/data/raw\\_data/repetidos2'"
      ],
      "text/markdown": [
       "'~/Documents/Collaborations/sinusite_edwin/data/raw_data/repetidos2'"
      ],
      "text/plain": [
       "[1] \"~/Documents/Collaborations/sinusite_edwin/data/raw_data/repetidos2\""
      ]
     },
     "metadata": {},
     "output_type": "display_data"
    },
    {
     "data": {
      "text/html": [
       "'~/Documents/Collaborations/sinusite_edwin/data/raw_data/concatenated'"
      ],
      "text/latex": [
       "'\\textasciitilde{}/Documents/Collaborations/sinusite\\_edwin/data/raw\\_data/concatenated'"
      ],
      "text/markdown": [
       "'~/Documents/Collaborations/sinusite_edwin/data/raw_data/concatenated'"
      ],
      "text/plain": [
       "[1] \"~/Documents/Collaborations/sinusite_edwin/data/raw_data/concatenated\""
      ]
     },
     "metadata": {},
     "output_type": "display_data"
    }
   ],
   "source": [
    "# Set up the directories\n",
    "raw_data_dir <- \"~/Documents/Collaborations/sinusite_edwin/data/raw_data\"\n",
    "repetidos_dir <- \"~/Documents/Collaborations/sinusite_edwin/data/raw_data/repetidos\"\n",
    "repetidos2_dir <- \"~/Documents/Collaborations/sinusite_edwin/data/raw_data/repetidos2\"\n",
    "concatenated_dir <- \"~/Documents/Collaborations/sinusite_edwin/data/raw_data/concatenated\"\n",
    "raw_data_dir\n",
    "repetidos_dir\n",
    "repetidos2_dir\n",
    "concatenated_dir"
   ]
  },
  {
   "cell_type": "code",
   "execution_count": 3,
   "id": "e8ef8e18-0652-4f46-b65f-873a054b572e",
   "metadata": {},
   "outputs": [],
   "source": [
    "# Create the output directory if it doesn't exist\n",
    "if (!dir.exists(concatenated_dir)) {\n",
    "  dir.create(concatenated_dir)\n",
    "}"
   ]
  },
  {
   "cell_type": "code",
   "execution_count": 4,
   "id": "4e62e834-eb63-4009-af85-ae2086068351",
   "metadata": {},
   "outputs": [],
   "source": [
    "# Get the list of .fastq files from raw_data, repetidos, and repetidos2 directories\n",
    "files_raw_data <- list.files(raw_data_dir, pattern = \"*.fastq\", full.names = TRUE)\n",
    "files_repetidos <- list.files(repetidos_dir, pattern = \"*.fastq\", full.names = TRUE)\n",
    "files_repetidos2 <- list.files(repetidos2_dir, pattern = \"*.fastq\", full.names = TRUE)\n",
    "\n",
    "# Get the base names of the files\n",
    "base_names_raw_data <- basename(files_raw_data)\n",
    "base_names_repetidos <- basename(files_repetidos)\n",
    "base_names_repetidos2 <- basename(files_repetidos2)"
   ]
  },
  {
   "cell_type": "code",
   "execution_count": 5,
   "id": "982ec913-1dac-4592-b357-c794004558e6",
   "metadata": {},
   "outputs": [
    {
     "name": "stdout",
     "output_type": "stream",
     "text": [
      "Concatenation complete!\n"
     ]
    }
   ],
   "source": [
    "# Loop through each file and concatenate if corresponding files exist in other directories\n",
    "for (file in files_raw_data) {\n",
    "  base_name <- basename(file)\n",
    "  \n",
    "  # Initialize the content with the raw_data file\n",
    "  content <- readLines(file)\n",
    "  \n",
    "  # If the file exists in the repetidos directory, append it\n",
    "  if (base_name %in% base_names_repetidos) {\n",
    "    content <- c(content, readLines(file.path(repetidos_dir, base_name)))\n",
    "  }\n",
    "  \n",
    "  # If the file exists in the repetidos2 directory, append it\n",
    "  if (base_name %in% base_names_repetidos2) {\n",
    "    content <- c(content, readLines(file.path(repetidos2_dir, base_name)))\n",
    "  }\n",
    "  \n",
    "  # Write the concatenated content to the concatenated directory\n",
    "  writeLines(content, file.path(concatenated_dir, base_name))\n",
    "}\n",
    "\n",
    "cat(\"Concatenation complete!\\n\")"
   ]
  }
 ],
 "metadata": {
  "kernelspec": {
   "display_name": "R",
   "language": "R",
   "name": "ir"
  },
  "language_info": {
   "codemirror_mode": "r",
   "file_extension": ".r",
   "mimetype": "text/x-r-source",
   "name": "R",
   "pygments_lexer": "r",
   "version": "4.3.3"
  }
 },
 "nbformat": 4,
 "nbformat_minor": 5
}
