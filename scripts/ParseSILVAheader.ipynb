{
 "cells": [
  {
   "cell_type": "code",
   "execution_count": 3,
   "id": "cf759c67-8ec3-4215-8e93-d3370ad8702a",
   "metadata": {},
   "outputs": [],
   "source": [
    "setwd(\"/home/strawberry/Documents/Collaborations/sinusite_edwin/data\")"
   ]
  },
  {
   "cell_type": "code",
   "execution_count": 5,
   "id": "57a644d1-7234-468c-a59e-d8b9cb8fdad4",
   "metadata": {},
   "outputs": [
    {
     "name": "stderr",
     "output_type": "stream",
     "text": [
      "Loading required package: BiocGenerics\n",
      "\n",
      "\n",
      "Attaching package: ‘BiocGenerics’\n",
      "\n",
      "\n",
      "The following objects are masked from ‘package:dplyr’:\n",
      "\n",
      "    combine, intersect, setdiff, union\n",
      "\n",
      "\n",
      "The following objects are masked from ‘package:stats’:\n",
      "\n",
      "    IQR, mad, sd, var, xtabs\n",
      "\n",
      "\n",
      "The following objects are masked from ‘package:base’:\n",
      "\n",
      "    anyDuplicated, aperm, append, as.data.frame, basename, cbind,\n",
      "    colnames, dirname, do.call, duplicated, eval, evalq, Filter, Find,\n",
      "    get, grep, grepl, intersect, is.unsorted, lapply, Map, mapply,\n",
      "    match, mget, order, paste, pmax, pmax.int, pmin, pmin.int,\n",
      "    Position, rank, rbind, Reduce, rownames, sapply, setdiff, sort,\n",
      "    table, tapply, union, unique, unsplit, which.max, which.min\n",
      "\n",
      "\n",
      "Loading required package: S4Vectors\n",
      "\n",
      "Loading required package: stats4\n",
      "\n",
      "\n",
      "Attaching package: ‘S4Vectors’\n",
      "\n",
      "\n",
      "The following objects are masked from ‘package:dplyr’:\n",
      "\n",
      "    first, rename\n",
      "\n",
      "\n",
      "The following object is masked from ‘package:utils’:\n",
      "\n",
      "    findMatches\n",
      "\n",
      "\n",
      "The following objects are masked from ‘package:base’:\n",
      "\n",
      "    expand.grid, I, unname\n",
      "\n",
      "\n",
      "Loading required package: IRanges\n",
      "\n",
      "\n",
      "Attaching package: ‘IRanges’\n",
      "\n",
      "\n",
      "The following objects are masked from ‘package:dplyr’:\n",
      "\n",
      "    collapse, desc, slice\n",
      "\n",
      "\n",
      "Loading required package: XVector\n",
      "\n",
      "Loading required package: GenomeInfoDb\n",
      "\n",
      "\n",
      "Attaching package: ‘Biostrings’\n",
      "\n",
      "\n",
      "The following object is masked from ‘package:base’:\n",
      "\n",
      "    strsplit\n",
      "\n",
      "\n",
      "\n",
      "Attaching package: ‘tidyr’\n",
      "\n",
      "\n",
      "The following object is masked from ‘package:S4Vectors’:\n",
      "\n",
      "    expand\n",
      "\n",
      "\n"
     ]
    }
   ],
   "source": [
    "# Load necessary library\n",
    "library(Biostrings)\n",
    "library(dplyr)\n",
    "library(tidyr)"
   ]
  },
  {
   "cell_type": "code",
   "execution_count": null,
   "id": "e72bb529-bae9-49e0-bd41-756218716b5e",
   "metadata": {},
   "outputs": [
    {
     "name": "stderr",
     "output_type": "stream",
     "text": [
      "Warning message in .Call2(\"fasta_index\", filexp_list, nrec, skip, seek.first.rec, :\n",
      "“reading FASTA file SILVA138.2_16S_Bacteria.fasta: ignored 125694561 invalid one-letter sequence codes”\n"
     ]
    }
   ],
   "source": [
    "# Read the FASTA file\n",
    "fasta_file <- \"SILVA138.2_16S_Bacteria.fasta\"\n",
    "sequences <- readDNAStringSet(fasta_file, format = \"fasta\")\n",
    "head(sequences)"
   ]
  },
  {
   "cell_type": "code",
   "execution_count": null,
   "id": "b7a89e21-3c58-4bbd-8ccb-d0e9d4c80662",
   "metadata": {},
   "outputs": [],
   "source": [
    "# Extract headers\n",
    "headers <- names(sequences)\n",
    "\n",
    "# Parse accession numbers and taxonomy\n",
    "parsed_data <- data.frame(\n",
    "  Accession = sub(\"^([^ ]+) .*\", \"\\\\1\", headers),  # Extract accession code\n",
    "  Taxonomy = sub(\"^[^ ]+ (.*)\", \"\\\\1\", headers),  # Extract taxonomy\n",
    "  stringsAsFactors = FALSE\n",
    ")\n",
    "head(parsed_data)"
   ]
  },
  {
   "cell_type": "code",
   "execution_count": null,
   "id": "15e211e3-f18c-41d6-b459-541ff50f63e7",
   "metadata": {},
   "outputs": [],
   "source": [
    "# Split taxonomy into separate columns\n",
    "taxonomy_df <- parsed_data %>%\n",
    "  separate(Taxonomy, into = c(\"Domain\", \"Phylum\", \"Class\", \"Order\", \"Family\", \"Genus\", \"Species\"), sep = \";\", fill = \"right\")\n",
    "\n",
    "# Save as TSV file\n",
    "write.table(taxonomy_df, \"taxonomy_table.tsv\", sep = \"\\t\", row.names = FALSE, quote = FALSE)\n",
    "\n",
    "# Preview output\n",
    "head(taxonomy_df)"
   ]
  }
 ],
 "metadata": {
  "kernelspec": {
   "display_name": "R",
   "language": "R",
   "name": "ir"
  },
  "language_info": {
   "codemirror_mode": "r",
   "file_extension": ".r",
   "mimetype": "text/x-r-source",
   "name": "R",
   "pygments_lexer": "r",
   "version": "4.3.3"
  }
 },
 "nbformat": 4,
 "nbformat_minor": 5
}
